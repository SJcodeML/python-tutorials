{
  "nbformat": 4,
  "nbformat_minor": 0,
  "metadata": {
    "colab": {
      "provenance": [],
      "authorship_tag": "ABX9TyN4Lw5ONiW/o63ipob1fqLO",
      "include_colab_link": true
    },
    "kernelspec": {
      "name": "python3",
      "display_name": "Python 3"
    },
    "language_info": {
      "name": "python"
    }
  },
  "cells": [
    {
      "cell_type": "markdown",
      "metadata": {
        "id": "view-in-github",
        "colab_type": "text"
      },
      "source": [
        "<a href=\"https://colab.research.google.com/github/SJcodeML/python-tutorials/blob/main/Dictionaries_Detailed_Tutorial.ipynb\" target=\"_parent\"><img src=\"https://colab.research.google.com/assets/colab-badge.svg\" alt=\"Open In Colab\"/></a>"
      ]
    },
    {
      "cell_type": "markdown",
      "source": [
        "# **Dictionaries in Python**\n",
        "1. Introduction to Dictionaries\n",
        "A dictionary is a collection of key-value pairs. It is:\n",
        "\n",
        "Ordered (since Python 3.7): Items are stored in the order they were inserted.\n",
        "\n",
        "**Mutable**: Items can be added, removed, or modified after the dictionary is created.\n",
        "\n",
        "**Un-indexed**: Items are accessed using keys, not indices.\n",
        "\n",
        "**Without duplicates **: Keys must be unique, but values can be duplicated.\n",
        "\n",
        "Before Python 3.7, dictionaries were unordered, meaning that items were not stored in a specific order. However, with the introduction of Python 3.7, dictionaries now maintain their insertion order.\n",
        "\n",
        "OrderedDict vs dict in Python: The Right Tool for the Job\n",
        "\n",
        "**2. Creating a Dictionary**\n",
        "Dictionaries are created using curly braces {} with key-value pairs separated by commas.\n",
        "\n",
        "The syntax is:\n",
        "\n",
        "dictionary = {key1: value1, key2: value2, ...}\n",
        "Example Code:"
      ],
      "metadata": {
        "id": "K-r8xxt0w4Ed"
      }
    },
    {
      "cell_type": "code",
      "execution_count": null,
      "metadata": {
        "id": "EsDWDcS-wfCO"
      },
      "outputs": [],
      "source": [
        "# prompt: genrate a List of 5 american cities\n",
        "\n",
        "american_cities: dict = [\"New York\", \"Los Angeles\", \"Chicago\", \"Houston\", \"Phoenix\"]\n",
        "american_cities\n"
      ]
    },
    {
      "cell_type": "code",
      "source": [
        "\n",
        "# Create a dictionary to store a person's details\n",
        "person: dict = {\n",
        "    \"name\": \"Alice\",\n",
        "    \"age\": 25,\n",
        "    \"visited_cities\": american_cities\n",
        "}\n",
        "print(person)\n"
      ],
      "metadata": {
        "id": "6fmVtwKCxaoD"
      },
      "execution_count": null,
      "outputs": []
    },
    {
      "cell_type": "code",
      "source": [
        "thisdict: dict = dict(name = \"John\", age = 36, country = \"Norway\") # It is also possible to use the dict() constructor to make a dictionary.\n",
        "print(type(thisdict),\" - \", thisdict, )"
      ],
      "metadata": {
        "id": "kZ1EgSyKxdeu"
      },
      "execution_count": null,
      "outputs": []
    },
    {
      "cell_type": "markdown",
      "source": [
        "**3. Accessing Values**\n",
        "You can access the value associated with a key using square brackets [] or the get() method.\n",
        "\n",
        "Example Code:"
      ],
      "metadata": {
        "id": "g0dgpWZZxgZV"
      }
    },
    {
      "cell_type": "code",
      "source": [
        "# Access values using keys\n",
        "print(person[\"name\"])  # Output: Alice\n",
        "print(person.get(\"age\", \"99\"))  # Output: 25, if not found it will return 99 (default value)\n",
        "\n",
        "# Access a non-existent key\n",
        "print(person.get(\"country\", \"my_default_vlaue_if_key_not_found\"))  # Output: my_default_vlaue (default value)"
      ],
      "metadata": {
        "id": "5weV7hjXxioK"
      },
      "execution_count": null,
      "outputs": []
    },
    {
      "cell_type": "markdown",
      "source": [
        "**4. Modifying a Dictionary**\n",
        "You can add new key-value pairs or modify existing ones.\n",
        "\n",
        "Example Code:"
      ],
      "metadata": {
        "id": "2NSe18dbxoEJ"
      }
    },
    {
      "cell_type": "code",
      "source": [
        "# Add a new key-value pair\n",
        "person[\"email\"] = \"alice@example.com\"\n",
        "print(person)\n",
        "\n",
        "# Modify an existing value\n",
        "person[\"age\"] = 26\n",
        "print(person)"
      ],
      "metadata": {
        "id": "azXMe-d5xq5L"
      },
      "execution_count": null,
      "outputs": []
    },
    {
      "cell_type": "markdown",
      "source": [
        "**5. Deleting Items**\n",
        "You can remove a key-value pair using the del keyword or the pop() method.\n",
        "\n",
        "Note that pop() returns the value of the removed key-value pair, whereas del does not return anything.\n",
        "\n",
        "You can also use pop() with a default value, in case the key is not found in the dictionary:\n",
        "\n",
        "Example Code:"
      ],
      "metadata": {
        "id": "2djhjy0dxvNn"
      }
    },
    {
      "cell_type": "code",
      "source": [
        "\n",
        "person: dict = {'name': 'Alice', 'age': 25, 'email': 'alice@example.com', 'city': ['New York', 'Los Angeles', 'Chicago', 'Houston', 'Phoenix']}\n",
        "print(person)"
      ],
      "metadata": {
        "id": "gAONZrqyxztz"
      },
      "execution_count": null,
      "outputs": []
    },
    {
      "cell_type": "code",
      "source": [
        "\n",
        "# Remove a key-value pair using del\n",
        "del person[\"city\"]\n",
        "print(person)\n"
      ],
      "metadata": {
        "id": "cRbzBceux37g"
      },
      "execution_count": null,
      "outputs": []
    },
    {
      "cell_type": "code",
      "source": [
        "# Remove a key-value pair using pop\n",
        "age: int = person.pop(\"age\", -1)\n",
        "print(\"Removed age:\", age)\n",
        "print(person)\n",
        "\n",
        "print(\"\\n-----\\n\")\n",
        "#Again remove a key which is already removed to check the default value\n",
        "age: int = person.pop(\"age\", -1)\n",
        "print(\"key 'age' not found in dict so returning default value: \", age)"
      ],
      "metadata": {
        "id": "XMbRVFhHx60w"
      },
      "execution_count": null,
      "outputs": []
    },
    {
      "cell_type": "markdown",
      "source": [
        "**6. Dictionary Methods**\n",
        "Python provides several useful methods for working with dictionaries.\n",
        "\n",
        "Method\tDescription\n",
        "keys()\tReturns a list of all keys in the dictionary.\n",
        "values()\tReturns a list of all values in the dictionary.\n",
        "items()\tReturns a list of key-value pairs as tuples.\n",
        "clear()\tRemoves all items from the dictionary.\n",
        "update()\tAdds or updates multiple key-value pairs from another dictionary.\n"
      ],
      "metadata": {
        "id": "ypszp5atx-th"
      }
    },
    {
      "cell_type": "code",
      "source": [
        "# Get all keys\n",
        "print(\"person.keys()         = \", person.keys()  )  # Output: dict_keys(['name', 'email', 'city', 'age'])\n",
        "\n",
        "# Get all values\n",
        "print(\"person.values()       = \", person.values())  # Output: dict_values(['Alice', 'alice@example.com', 'Los Angeles', 27])\n",
        "\n",
        "# Get all key-value pairs\n",
        "print(\"person.items()        = \", person.items())  # Output: dict_items([('name', 'Alice'), ('email', 'alice@example.com'), ('city', 'Los Angeles'), ('age', 27)])\n",
        "\n",
        "# Update the dictionary\n",
        "person.update({\"city\": \"Los Angeles\", \"age\": 27})\n",
        "print(\"After: person.update  = \", person)\n",
        "\n",
        "# Clear the dictionary\n",
        "person.clear()\n",
        "print(\"After: person.clear() = \", person)  # Output: {}"
      ],
      "metadata": {
        "id": "Vz1lNmtbyJI3"
      },
      "execution_count": null,
      "outputs": []
    },
    {
      "cell_type": "markdown",
      "source": [
        "**Duplicate Key Not Allowed**\n",
        "Dictionaries cannot have two items with the same key:"
      ],
      "metadata": {
        "id": "ytdJRtHcyL6B"
      }
    },
    {
      "cell_type": "code",
      "source": [
        "\n",
        "thisdict: dict = {\n",
        "  \"brand\": \"Ford\",\n",
        "  \"model\": \"Mustang\",\n",
        "  \"year\": 1964,\n",
        "  \"year\": 2020 # this will overwrite the previous key:vlaue\n",
        "}\n",
        "print(thisdict)"
      ],
      "metadata": {
        "id": "0mKJoqohyQD_"
      },
      "execution_count": null,
      "outputs": []
    },
    {
      "cell_type": "markdown",
      "source": [],
      "metadata": {
        "id": "xdk3IvAVyS0o"
      }
    },
    {
      "cell_type": "markdown",
      "source": [
        "**7. Iterating Over a Dictionary**\n",
        "You can loop through a dictionary using for loops.\n",
        "\n",
        "Example Code:"
      ],
      "metadata": {
        "id": "oW6ULN0LySax"
      }
    },
    {
      "cell_type": "code",
      "source": [
        "\n",
        "for key in thisdict:\n",
        "    print(key)\n"
      ],
      "metadata": {
        "id": "mra5wsSGyYXR"
      },
      "execution_count": null,
      "outputs": []
    },
    {
      "cell_type": "code",
      "source": [
        "for key, value in thisdict.items():\n",
        "    print(key,\" : \", value)\n"
      ],
      "metadata": {
        "id": "Z1IheM49ya2e"
      },
      "execution_count": null,
      "outputs": []
    },
    {
      "cell_type": "markdown",
      "source": [
        "**9. Common Pitfalls**\n",
        "Using a non-existent key without checking first for e.g. \"\n",
        "print(my_dict.get(\"name_1\")) # Output: None\n",
        "print(my_dict.get(\"name_1\", \"No name found\")) # Output: No name found\n",
        "print(my_dict[\"name_1\"])  # (raises a KeyError).\n",
        "Always use get() or check if the key exists with in to avoid error.\n",
        "Forgetting that dictionary keys must be immutable (e.g., strings, numbers, or tuples).\n",
        "Assuming dictionaries are ordered (in Python 3.6+, they retain insertion order, but this is not guaranteed in older versions)."
      ],
      "metadata": {
        "id": "63abdwSmy62O"
      }
    },
    {
      "cell_type": "code",
      "source": [
        "# Example Dictionary\n",
        "my_dict = {\n",
        "  \"name\": \"John\",\n",
        "  \"age\": 30,\n",
        "  \"city\": \"New York\"\n",
        "}\n",
        "\n",
        "# 1. Accessing Items\n",
        "print(\"1. Accessing Items\")\n",
        "print(\"Name:\", my_dict[\"name\"])  # Accessing by key\n",
        "print(\"Age:\", my_dict.get(\"age\"))  # Accessing using get()\n",
        "print(\"City (using get):\", my_dict.get(\"city\"))\n",
        "\n",
        "# 2. Adding Items\n",
        "print(\"\\n2. Adding Items\")\n",
        "my_dict[\"email\"] = \"john@example.com\"\n",
        "print(\"Dictionary after adding email:\", my_dict)\n",
        "\n",
        "# 3. Modifying Items\n",
        "print(\"\\n3. Modifying Items\")\n",
        "my_dict[\"age\"] = 31\n",
        "print(\"Dictionary after modifying age:\", my_dict)\n",
        "\n",
        "# 4. Removing Items\n",
        "print(\"\\n4. Removing Items\")\n",
        "my_dict.pop(\"city\")\n",
        "print(\"Dictionary after removing city (using pop):\", my_dict)\n",
        "del my_dict[\"email\"]\n",
        "print(\"Dictionary after removing email (using del):\", my_dict)\n",
        "\n",
        "# 5. Dictionary Methods\n",
        "print(\"\\n5. Dictionary Methods\")\n",
        "print(\"Keys:\", my_dict.keys())\n",
        "print(\"Values:\", my_dict.values())\n",
        "print(\"Items:\", my_dict.items())\n",
        "\n",
        "# 6. Clearing the Dictionary\n",
        "print(\"\\n6. Clearing the Dictionary\")\n",
        "my_dict.clear()\n",
        "print(\"Dictionary after clearing:\", my_dict)\n",
        "\n",
        "# Adding items back for further examples\n",
        "my_dict = {\n",
        "  \"name\": \"John\",\n",
        "  \"age\": 30,\n",
        "  \"city\": \"New York\"\n",
        "}\n",
        "\n",
        "# 7. Updating the Dictionary\n",
        "print(\"\\n7. Updating the Dictionary\")\n",
        "my_dict.update({\"age\": 32, \"country\": \"USA\"})\n",
        "print(\"Dictionary after updating:\", my_dict)\n",
        "\n",
        "# 8. Iterating Through a Dictionary\n",
        "print(\"\\n8. Iterating Through a Dictionary\")\n",
        "print(\"Iterating through keys:\")\n",
        "for key in my_dict:\n",
        "  print(key)\n",
        "\n",
        "print(\"\\nIterating through values:\")\n",
        "for value in my_dict.values():\n",
        "  print(value)\n",
        "\n",
        "print(\"\\nIterating through items (key-value pairs):\")\n",
        "for key, value in my_dict.items():\n",
        "  print(f\"{key}: {value}\")\n",
        "\n",
        "#9 checking if a key exist\n",
        "print(\"\\n9. checking if a key exist\")\n",
        "if \"name\" in my_dict:\n",
        "    print(\"Name exist\")\n",
        "else:\n",
        "    print(\"Name do not exist\")\n",
        "\n",
        "# 10. Dictionary Length\n",
        "print(\"\\n10. Dictionary Length\")\n",
        "print(\"Length of the dictionary:\", len(my_dict))\n",
        "\n",
        "# 11. Creating a dictionary from iterable\n",
        "print(\"\\n11. Creating a dictionary from iterable\")\n",
        "iterable = [(\"key1\", \"value1\"), (\"key2\", \"value2\"), (\"key3\", \"value3\")]\n",
        "new_dict = dict(iterable)\n",
        "print(\"new dictionary:\", new_dict)\n",
        "\n",
        "# 12. Copying a dictionary\n",
        "print(\"\\n12. Copying a dictionary\")\n",
        "copied_dict = my_dict.copy()\n",
        "print(\"Copied dictionary:\", copied_dict)\n",
        "\n",
        "# 13. Nested Dictionaries\n",
        "print(\"\\n13. Nested Dictionaries\")\n",
        "nested_dict = {\n",
        "    \"person1\": {\"name\": \"Alice\", \"age\": 25},\n",
        "    \"person2\": {\"name\": \"Bob\", \"age\": 30}\n",
        "}\n",
        "print(\"Nested dictionary:\", nested_dict)\n",
        "print(\"Alice's age:\", nested_dict[\"person1\"][\"age\"])\n"
      ],
      "metadata": {
        "colab": {
          "base_uri": "https://localhost:8080/"
        },
        "collapsed": true,
        "id": "E4xtjWgXy9Lj",
        "outputId": "9c203cb5-bc14-4da3-a753-8468092ea14b"
      },
      "execution_count": null,
      "outputs": [
        {
          "output_type": "stream",
          "name": "stdout",
          "text": [
            "1. Accessing Items\n",
            "Name: John\n",
            "Age: 30\n",
            "City (using get): New York\n",
            "\n",
            "2. Adding Items\n",
            "Dictionary after adding email: {'name': 'John', 'age': 30, 'city': 'New York', 'email': 'john@example.com'}\n",
            "\n",
            "3. Modifying Items\n",
            "Dictionary after modifying age: {'name': 'John', 'age': 31, 'city': 'New York', 'email': 'john@example.com'}\n",
            "\n",
            "4. Removing Items\n",
            "Dictionary after removing city (using pop): {'name': 'John', 'age': 31, 'email': 'john@example.com'}\n",
            "Dictionary after removing email (using del): {'name': 'John', 'age': 31}\n",
            "\n",
            "5. Dictionary Methods\n",
            "Keys: dict_keys(['name', 'age'])\n",
            "Values: dict_values(['John', 31])\n",
            "Items: dict_items([('name', 'John'), ('age', 31)])\n",
            "\n",
            "6. Clearing the Dictionary\n",
            "Dictionary after clearing: {}\n",
            "\n",
            "7. Updating the Dictionary\n",
            "Dictionary after updating: {'name': 'John', 'age': 32, 'city': 'New York', 'country': 'USA'}\n",
            "\n",
            "8. Iterating Through a Dictionary\n",
            "Iterating through keys:\n",
            "name\n",
            "age\n",
            "city\n",
            "country\n",
            "\n",
            "Iterating through values:\n",
            "John\n",
            "32\n",
            "New York\n",
            "USA\n",
            "\n",
            "Iterating through items (key-value pairs):\n",
            "name: John\n",
            "age: 32\n",
            "city: New York\n",
            "country: USA\n",
            "\n",
            "9. checking if a key exist\n",
            "Name exist\n",
            "\n",
            "10. Dictionary Length\n",
            "Length of the dictionary: 4\n",
            "\n",
            "11. Creating a dictionary from iterable\n",
            "new dictionary: {'key1': 'value1', 'key2': 'value2', 'key3': 'value3'}\n",
            "\n",
            "12. Copying a dictionary\n",
            "Copied dictionary: {'name': 'John', 'age': 32, 'city': 'New York', 'country': 'USA'}\n",
            "\n",
            "13. Nested Dictionaries\n",
            "Nested dictionary: {'person1': {'name': 'Alice', 'age': 25}, 'person2': {'name': 'Bob', 'age': 30}}\n",
            "Alice's age: 25\n"
          ]
        }
      ]
    },
    {
      "cell_type": "markdown",
      "source": [
        "# **Dictionary Comprehensions**\n",
        "Dictionary comprehensions provide a concise way to create dictionaries in Python. They are similar to list comprehensions but used for creating dictionaries instead of lists. Let's explore how dictionary comprehensions work and see some examples.\n",
        "\n",
        "Basic Syntax\n",
        "The basic syntax of a dictionary comprehension is:\n",
        "\n",
        "{key_expression: value_expression for item in iterable if condition}"
      ],
      "metadata": {
        "id": "Cy5lplpN1hxU"
      }
    },
    {
      "cell_type": "code",
      "source": [
        "\n",
        "original_dict = {'a': 1, 'b': 2, 'c': 3}\n",
        "print(\"original_dict = \", original_dict)\n",
        "doubled_dict = {k: v*2 for k, v in original_dict.items()}\n",
        "print(\"doubled_dict  = \", doubled_dict)  # Output: {'a': 2, 'b': 4, 'c': 6}"
      ],
      "metadata": {
        "id": "DWVBvETV1q4N"
      },
      "execution_count": null,
      "outputs": []
    },
    {
      "cell_type": "markdown",
      "source": [
        "\n",
        "```\n",
        "\n",
        "### Explanation:\n",
        "\n",
        "- **`original_dict.items()`**: This method returns a view object that yields key-value pairs from the original dictionary. For your `original_dict`, it generates:\n",
        "  - ('a', 1)\n",
        "  - ('b', 2)\n",
        "  - ('c', 3)\n",
        "\n",
        "- **`for k, v in original_dict.items()`**: This loop goes through each key-value pair (k, v) obtained from `items()`.\n",
        "\n",
        "- **`k: v*2`**: This is the expression that defines an entry in the new dictionary:\n",
        "  - `k` is the key (e.g., `'a'`)\n",
        "  - `v*2` doubles the value associated with that key.\n",
        "\n",
        "- **`{ ... }`**: The curly braces indicate that we're creating a dictionary.\n",
        "\n",
        "### Summary:\n",
        "\n",
        "This comprehension creates a new dictionary where:\n",
        "- The keys are the same as in `original_dict`.\n",
        "- The values are doubled from the original.\n",
        "\n",
        "**Result:**\n",
        "```python\n",
        "{'a': 2, 'b': 4, 'c': 6}\n",
        "```\n",
        "\n"
      ],
      "metadata": {
        "id": "jqT_-aQI16KX"
      }
    }
  ]
}