{
  "cells": [
    {
      "cell_type": "markdown",
      "metadata": {
        "id": "view-in-github",
        "colab_type": "text"
      },
      "source": [
        "<a href=\"https://colab.research.google.com/github/SJcodeML/python-tutorials/blob/main/Untitled5.ipynb\" target=\"_parent\"><img src=\"https://colab.research.google.com/assets/colab-badge.svg\" alt=\"Open In Colab\"/></a>"
      ]
    },
    {
      "cell_type": "markdown",
      "metadata": {
        "id": "IZZhMDuHcOmI"
      },
      "source": [
        "AIRTHMETIC OPERATORS :who performs mathematical operations (actions)\n",
        "OPERANDS : who let you perform operations on them"
      ]
    },
    {
      "cell_type": "code",
      "execution_count": null,
      "metadata": {
        "id": "A_RL7ePMVKtR"
      },
      "outputs": [],
      "source": [
        "a: int = 10\n",
        "b: int = 3\n",
        "print(\"a + b  = \", a + b)   # 13 Addition\n",
        "print(\"a - b  = \", a - b)   # 7 Subtraction\n",
        "print(\"a * b  = \", a * b)   # 30 Multiplication\n",
        "print(\"a / b  = \", a / b)   # 3.3333333333333335 division\n",
        "print(\"a // b = \", a // b)  # 3 Floor Division\n",
        "print(\"a % b  = \", a % b)   # 1 Modulus (remainder) shift 5\n",
        "print(\"a ** b  = \", a ** b)  # 1000 Exponentiation (10 * 10 * 10)  shift 8"
      ]
    },
    {
      "cell_type": "code",
      "execution_count": null,
      "metadata": {
        "colab": {
          "base_uri": "https://localhost:8080/"
        },
        "id": "-uOYHkLMVZ88",
        "outputId": "bb739718-0abf-4d99-9344-4a8b129b4d16"
      },
      "outputs": [
        {
          "name": "stdout",
          "output_type": "stream",
          "text": [
            "a+b =  29\n"
          ]
        }
      ],
      "source": [
        "x = 25\n",
        "y = 4\n",
        "print (\"a+b = \" , x+y)"
      ]
    },
    {
      "cell_type": "code",
      "execution_count": null,
      "metadata": {
        "colab": {
          "base_uri": "https://localhost:8080/"
        },
        "id": "Ex4j1Km4V3uT",
        "outputId": "20c7211d-9620-44a7-d31a-3a9819c8ccc6"
      },
      "outputs": [
        {
          "name": "stdout",
          "output_type": "stream",
          "text": [
            "a - b =  4\n"
          ]
        }
      ],
      "source": [
        "a = 44\n",
        "b = 40\n",
        "print(\"a - b = \" , a - b)"
      ]
    },
    {
      "cell_type": "code",
      "execution_count": null,
      "metadata": {
        "colab": {
          "base_uri": "https://localhost:8080/"
        },
        "id": "JjAG1hGnXCF1",
        "outputId": "60d3e805-aba3-4791-ef61-496de0ab4121"
      },
      "outputs": [
        {
          "name": "stdout",
          "output_type": "stream",
          "text": [
            "c * d =  20\n"
          ]
        }
      ],
      "source": [
        "c = 4\n",
        "d = 5\n",
        "print (\"c * d = \" , c * d)"
      ]
    },
    {
      "cell_type": "code",
      "execution_count": null,
      "metadata": {
        "colab": {
          "base_uri": "https://localhost:8080/"
        },
        "id": "7CyT8qzpXm6v",
        "outputId": "9df72c02-1aaa-4f8c-8586-da574c07376d"
      },
      "outputs": [
        {
          "name": "stdout",
          "output_type": "stream",
          "text": [
            "f / d =  1.0\n",
            "when we want a single value (floor division) so we use //\n",
            "f // d =  1\n"
          ]
        }
      ],
      "source": [
        "f = 4\n",
        "d = 4\n",
        "\n",
        "print(\"f / d = \" , f / d)\n",
        "\n",
        "print (\"when we want a single value (floor division) so we use //\")\n",
        "\n",
        "#example\n",
        "\n",
        "print(\"f // d = \" , f // d)"
      ]
    },
    {
      "cell_type": "code",
      "execution_count": null,
      "metadata": {
        "colab": {
          "base_uri": "https://localhost:8080/"
        },
        "id": "Q6S7r2QbYDlK",
        "outputId": "11c45610-b709-462c-bc97-5ef9e08b9054"
      },
      "outputs": [
        {
          "name": "stdout",
          "output_type": "stream",
          "text": [
            "f % d =  1\n"
          ]
        }
      ],
      "source": [
        "f = 5\n",
        "d = 4\n",
        "print(\"f % d = \" , f % d)"
      ]
    },
    {
      "cell_type": "code",
      "execution_count": null,
      "metadata": {
        "colab": {
          "base_uri": "https://localhost:8080/"
        },
        "id": "E2T0NDcyYo3N",
        "outputId": "bf57efe3-885b-4745-872c-66caf1bd4f82"
      },
      "outputs": [
        {
          "name": "stdout",
          "output_type": "stream",
          "text": [
            "g % h =  3\n"
          ]
        }
      ],
      "source": [
        "g = 19\n",
        "h = 4\n",
        "print(\"g % h = \" , g % h)"
      ]
    },
    {
      "cell_type": "code",
      "execution_count": null,
      "metadata": {
        "colab": {
          "base_uri": "https://localhost:8080/"
        },
        "id": "UcoAQAb-Y1Bv",
        "outputId": "c0ce1a46-0f4e-4fa3-ea94-18a9ceeeee4f"
      },
      "outputs": [
        {
          "name": "stdout",
          "output_type": "stream",
          "text": [
            "y % z =  1\n"
          ]
        }
      ],
      "source": [
        "y =  25\n",
        "z = 2\n",
        "print(\"y % z = \" , y %z)"
      ]
    },
    {
      "cell_type": "code",
      "execution_count": null,
      "metadata": {
        "colab": {
          "base_uri": "https://localhost:8080/"
        },
        "id": "NKzzlHerZCn2",
        "outputId": "f7f5573d-9576-43a5-dac5-eb849852a641"
      },
      "outputs": [
        {
          "name": "stdout",
          "output_type": "stream",
          "text": [
            "a ** b  =  2401\n"
          ]
        }
      ],
      "source": [
        "a = 7\n",
        "b = 4\n",
        "\n",
        "\n",
        "print(\"a ** b  = \", a ** b)"
      ]
    },
    {
      "cell_type": "code",
      "execution_count": null,
      "metadata": {
        "id": "r-IFQ5qTaG6v"
      },
      "outputs": [],
      "source": []
    },
    {
      "cell_type": "markdown",
      "metadata": {
        "id": "XlxpOIP3eWbz"
      },
      "source": [
        "2. Comparison (Relational) Operators\n",
        "Used to compare two values.\n",
        "\n",
        "\n",
        "Operator\tName\tExample\n",
        "==\tEqual\t5 == 5 → True\n",
        "!=\tNot equal\t5 != 3 → True\n",
        ">\tGreater than\t5 > 3 → True\n",
        "<\tLess than\t5 < 3 → False\n",
        ">=\tGreater than or equal\t5 >= 5 → True\n",
        "<=\tLess than or equal\t5 <= 3 → False\n"
      ]
    },
    {
      "cell_type": "code",
      "execution_count": null,
      "metadata": {
        "colab": {
          "base_uri": "https://localhost:8080/"
        },
        "id": "-S29EJkffmqa",
        "outputId": "8ae73f65-fc63-4c82-9d08-748d9d9d3e79"
      },
      "outputs": [
        {
          "name": "stdout",
          "output_type": "stream",
          "text": [
            "False\n"
          ]
        }
      ],
      "source": [
        "a = 9\n",
        "b = 8\n",
        "\n",
        "print(a==b)"
      ]
    },
    {
      "cell_type": "code",
      "execution_count": null,
      "metadata": {
        "colab": {
          "base_uri": "https://localhost:8080/"
        },
        "id": "doLrKgjVf0b_",
        "outputId": "256e508c-452d-4d85-94cf-40ff16a910f5"
      },
      "outputs": [
        {
          "name": "stdout",
          "output_type": "stream",
          "text": [
            "True\n"
          ]
        }
      ],
      "source": [
        "a = 9\n",
        "b = 9\n",
        "print ( a == b)"
      ]
    },
    {
      "cell_type": "code",
      "execution_count": null,
      "metadata": {
        "colab": {
          "base_uri": "https://localhost:8080/"
        },
        "id": "IqVXsZHHgJWX",
        "outputId": "04bcf3fd-a9c7-432e-a437-b883baf6730c"
      },
      "outputs": [
        {
          "name": "stdout",
          "output_type": "stream",
          "text": [
            "True\n"
          ]
        }
      ],
      "source": [
        "f  = 6\n",
        "a =  6\n",
        "print(f == a)"
      ]
    },
    {
      "cell_type": "code",
      "execution_count": null,
      "metadata": {
        "colab": {
          "background_save": true,
          "base_uri": "https://localhost:8080/"
        },
        "id": "03Vc7dF4gdEv",
        "outputId": "83086f9e-1671-4f5e-b87b-50d4e82c5f4d"
      },
      "outputs": [
        {
          "name": "stdout",
          "output_type": "stream",
          "text": [
            "False\n"
          ]
        }
      ],
      "source": [
        "g = 9\n",
        "h = 5\n",
        "print(g == h)"
      ]
    },
    {
      "cell_type": "markdown",
      "metadata": {
        "id": "zBRPXBM1XlU_"
      },
      "source": [
        "**3. Logical Operators**\n",
        "\n",
        "Used to combine conditional statements.\n",
        "\n"
      ]
    },
    {
      "cell_type": "markdown",
      "metadata": {
        "id": "v6X_vQ8AX0f5"
      },
      "source": [
        "\n",
        "Operator\tName\tExample\n",
        "and\tLogical AND\t(5 > 3 and 10 > 5) → True\n",
        "or\tLogical OR\t(5 > 3 or 10 < 5) → True\n",
        "not\tLogical NOT\tnot(5 > 3) → False"
      ]
    },
    {
      "cell_type": "code",
      "execution_count": null,
      "metadata": {
        "id": "oXkW38XigiUj"
      },
      "outputs": [],
      "source": [
        "x: bool = True\n",
        "y: bool = False\n",
        "\n",
        "print(\"x and y = \", x and y)  # False\n",
        "print(\"x or y  = \", x or y)   # True\n",
        "print(\"not x   = \", not x)    # False"
      ]
    },
    {
      "cell_type": "code",
      "execution_count": null,
      "metadata": {
        "id": "VRNNR7eKYQIV"
      },
      "outputs": [],
      "source": [
        "# Example 1: and - both conditions must be true\n",
        "print(5 > 3 and 2 < 4)  # True\n",
        "\n",
        "# Example 2: and - one condition false\n",
        "print(5 > 3 and 2 > 4)  # False\n",
        "\n",
        "# Example 3: or - at least one true\n",
        "print(5 > 3 or 2 > 4)   # True\n",
        "\n",
        "# Example 4: or - both false\n",
        "print(1 > 2 or 3 > 4)   # False\n",
        "\n",
        "# Example 5: not - reversing true\n",
        "print(not(2 < 3))       # False\n",
        "\n",
        "# Example 6: not - reversing false\n",
        "print(not(2 > 3))       # True\n",
        "\n",
        "# Example 7: combining and, or, not\n",
        "print((5 > 3 and 2 < 4) or not(1 > 2))  # True\n",
        "\n",
        "# Example 8: checking multiple conditions\n",
        "a = 10\n",
        "print(a > 5 and a < 20)                       # True\n",
        "\n",
        "# Example 9: complex condition\n",
        "x = 7\n",
        "print((x > 5 and x < 10) or (x == 7))        # True\n",
        "      #  True      or           true\n",
        "# Example 10: using boolean variables\n",
        "is_raining = True\n",
        "has_umbrella = False\n",
        "print(is_raining and has_umbrella)            # False"
      ]
    },
    {
      "cell_type": "markdown",
      "metadata": {
        "id": "FxUqgDGTQB4B"
      },
      "source": [
        "4. **Assignment Operators**\n",
        "Used to assign values to variables.\n",
        "\n",
        "\n",
        "Operator\tExample\tEquivalent To\n",
        "=\tx = 5\tx = 5\n",
        "+=\tx += 3\tx = x + 3\n",
        "-=\tx -= 3\tx = x - 3\n",
        "*=\tx *= 3\tx = x * 3\n",
        "/=\tx /= 3\tx = x / 3\n",
        "//=\tx //= 3\tx = x // 3\n"
      ]
    },
    {
      "cell_type": "code",
      "execution_count": null,
      "metadata": {
        "id": "78NvJlbgQHtd"
      },
      "outputs": [],
      "source": [
        "\n",
        "x = 5\n",
        "print(\"Assignment: x = 5                    \",x)  # Output: 5\n",
        "\n",
        "x += 3  # Equivalent to x = x + 3\n",
        "print(\"Addition Assignment: x += 3          \",x)  # Output: 8\n",
        "\n",
        "x -= 3  # Equivalent to x = x - 3\n",
        "print(\"Subtraction Assignment: x -= 3       \",x)  # Output: 5\n",
        "\n",
        "x *= 3  # Equivalent to x = x * 3\n",
        "print(\"Multiplication Assignment: x *= 3    \",x)  # Output: 15\n",
        "\n",
        "x /= 3  # Equivalent to x = x / 3\n",
        "print(\"Division Assignment: x /= 3          \",x)  # Output: 5.0\n",
        "\n",
        "x //= 3  # Equivalent to x = x // 3\n",
        "print(\"Floor Division Assignment: x //= 3   \",x)  # Output: 1.0"
      ]
    },
    {
      "cell_type": "markdown",
      "metadata": {
        "id": "vd66dtocWo6v"
      },
      "source": [
        "Assigning Different Values\n",
        "We can assign different values to multiple variables simultaneously, making the code concise and easier to read.\n",
        "\n",
        "\n"
      ]
    },
    {
      "cell_type": "code",
      "execution_count": null,
      "metadata": {
        "colab": {
          "base_uri": "https://localhost:8080/"
        },
        "id": "EOc1VbfHWsP8",
        "outputId": "de884c5d-809b-4998-b751-30beebdfc4d9"
      },
      "outputs": [
        {
          "name": "stdout",
          "output_type": "stream",
          "text": [
            "1 2.5 Python\n"
          ]
        }
      ],
      "source": [
        "x, y, z = 1, 2.5, \"Python\" # Using type hints while assigning mutiple variables simultaneously cause and error invalid syntax\n",
        "\n",
        "\n",
        "print(x, y, z)\n",
        "\n",
        "\n",
        "\n",
        "\n",
        "# x = 5\n",
        "# y = 10\n",
        "# z= 9\n",
        "# print (x+y+z)"
      ]
    },
    {
      "cell_type": "code",
      "execution_count": null,
      "metadata": {
        "colab": {
          "base_uri": "https://localhost:8080/"
        },
        "id": "KH1Le8JWXmnD",
        "outputId": "8d0f00d7-7a70-487a-b6cc-fbd6ae4a8f5e"
      },
      "outputs": [
        {
          "name": "stdout",
          "output_type": "stream",
          "text": [
            "9 12.3 Python they are team mates\n"
          ]
        }
      ],
      "source": [
        "mikaal , aisha , teacher = 9 , 12.3 , \"Python\"\n",
        "print (mikaal , aisha , teacher , \"they are team mates\")"
      ]
    },
    {
      "cell_type": "code",
      "execution_count": null,
      "metadata": {
        "colab": {
          "base_uri": "https://localhost:8080/"
        },
        "id": "QIB40Z7gYcEG",
        "outputId": "b3bef4e6-2011-4c61-c40e-c051484a4468"
      },
      "outputs": [
        {
          "name": "stdout",
          "output_type": "stream",
          "text": [
            "45\n"
          ]
        }
      ],
      "source": [
        "x = 45\n",
        "print (x)"
      ]
    },
    {
      "cell_type": "code",
      "execution_count": null,
      "metadata": {
        "colab": {
          "background_save": true
        },
        "id": "2x7V1_V0bASd"
      },
      "outputs": [],
      "source": [
        "del x"
      ]
    },
    {
      "cell_type": "code",
      "execution_count": null,
      "metadata": {
        "colab": {
          "background_save": true,
          "base_uri": "https://localhost:8080/",
          "height": 141
        },
        "id": "jYs1d9fZbENy",
        "outputId": "147c03d5-73cd-4928-9be2-366a0ac1f1e7"
      },
      "outputs": [
        {
          "ename": "NameError",
          "evalue": "name 'a' is not defined",
          "output_type": "error",
          "traceback": [
            "\u001b[0;31m---------------------------------------------------------------------------\u001b[0m",
            "\u001b[0;31mNameError\u001b[0m                                 Traceback (most recent call last)",
            "\u001b[0;32m<ipython-input-13-bca0e2660b9f>\u001b[0m in \u001b[0;36m<cell line: 0>\u001b[0;34m()\u001b[0m\n\u001b[0;32m----> 1\u001b[0;31m \u001b[0mprint\u001b[0m\u001b[0;34m(\u001b[0m\u001b[0ma\u001b[0m\u001b[0;34m)\u001b[0m\u001b[0;34m\u001b[0m\u001b[0;34m\u001b[0m\u001b[0m\n\u001b[0m",
            "\u001b[0;31mNameError\u001b[0m: name 'a' is not defined"
          ]
        }
      ],
      "source": [
        "print(x)"
      ]
    },
    {
      "cell_type": "code",
      "execution_count": null,
      "metadata": {
        "id": "REsMT6tzbG5r"
      },
      "outputs": [],
      "source": []
    }
  ],
  "metadata": {
    "colab": {
      "provenance": [],
      "authorship_tag": "ABX9TyMJrWcw1c+PnpZf061ETJOL",
      "include_colab_link": true
    },
    "kernelspec": {
      "display_name": "Python 3",
      "name": "python3"
    },
    "language_info": {
      "name": "python"
    }
  },
  "nbformat": 4,
  "nbformat_minor": 0
}